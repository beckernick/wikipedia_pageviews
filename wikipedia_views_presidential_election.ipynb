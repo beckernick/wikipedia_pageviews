{
 "cells": [
  {
   "cell_type": "code",
   "execution_count": 575,
   "metadata": {
    "collapsed": true
   },
   "outputs": [],
   "source": [
    "import json\n",
    "import re\n",
    "import StringIO\n",
    "import unidecode\n",
    "import pandas as pd\n",
    "from mwviews.api import PageviewsClient"
   ]
  },
  {
   "cell_type": "code",
   "execution_count": 70,
   "metadata": {
    "collapsed": true
   },
   "outputs": [],
   "source": [
    "p = PageviewsClient()"
   ]
  },
  {
   "cell_type": "code",
   "execution_count": 112,
   "metadata": {
    "collapsed": false
   },
   "outputs": [
    {
     "data": {
      "text/plain": [
       "defaultdict(dict,\n",
       "            {datetime.datetime(2016, 11, 4, 0, 0): {'Donald_Trump': 178784,\n",
       "              'Hillary_Clinton': 97560,\n",
       "              'Mark_Kirk': 2238,\n",
       "              'Tammy_Duckworth': 4765},\n",
       "             datetime.datetime(2016, 11, 5, 0, 0): {'Donald_Trump': 158434,\n",
       "              'Hillary_Clinton': 88106,\n",
       "              'Mark_Kirk': 1747,\n",
       "              'Tammy_Duckworth': 3619},\n",
       "             datetime.datetime(2016, 11, 6, 0, 0): {'Donald_Trump': 208196,\n",
       "              'Hillary_Clinton': 127707,\n",
       "              'Mark_Kirk': 1679,\n",
       "              'Tammy_Duckworth': 3216},\n",
       "             datetime.datetime(2016, 11, 7, 0, 0): {'Donald_Trump': 281279,\n",
       "              'Hillary_Clinton': 194556,\n",
       "              'Mark_Kirk': 3031,\n",
       "              'Tammy_Duckworth': 5450},\n",
       "             datetime.datetime(2016, 11, 8, 0, 0): {'Donald_Trump': 531518,\n",
       "              'Hillary_Clinton': 420278,\n",
       "              'Mark_Kirk': 5645,\n",
       "              'Tammy_Duckworth': 11015},\n",
       "             datetime.datetime(2016, 11, 9, 0, 0): {'Donald_Trump': 6137438,\n",
       "              'Hillary_Clinton': 1233122,\n",
       "              'Mark_Kirk': 15718,\n",
       "              'Tammy_Duckworth': 86615},\n",
       "             datetime.datetime(2016, 11, 10, 0, 0): {'Donald_Trump': 2685226,\n",
       "              'Hillary_Clinton': 377592,\n",
       "              'Mark_Kirk': 5588,\n",
       "              'Tammy_Duckworth': 39032}})"
      ]
     },
     "execution_count": 112,
     "metadata": {},
     "output_type": "execute_result"
    }
   ],
   "source": [
    "p.article_views('en.wikipedia',\n",
    "                ['Tammy Duckworth', 'Mark Kirk', 'Donald Trump', 'Hillary Clinton'],\n",
    "                start='20161104', end='20161110')"
   ]
  },
  {
   "cell_type": "code",
   "execution_count": 214,
   "metadata": {
    "collapsed": true
   },
   "outputs": [],
   "source": [
    "# Copied from https://en.wikipedia.org/wiki/United_States_Senate_elections,_2016\n",
    "\n",
    "s = '''\n",
    "√ Richard Shelby (Republican)[17]\n",
    "Ron Crumpton (Democratic)[18]\n",
    "\n",
    "\n",
    "\n",
    "√ Lisa Murkowski (Republican)[19]\n",
    "Ray Metcalfe (Democratic)[20]\n",
    "Joe Miller (Libertarian)[21]\n",
    "Margaret Stock (Independent)[22][23]\n",
    "√ John McCain (Republican)[24]\n",
    "Ann Kirkpatrick (Democratic)[25]\n",
    "Pat Quinn (independent/Write-in)[26][27]\n",
    "Gary Swing (Green/Write-in)[28]\n",
    "\n",
    "√ John Boozman (Republican)[29]\n",
    "Conner Eldridge (Democratic)[30]\n",
    "Frank Gilbert (Libertarian)[31]\n",
    "√ Kamala Harris (Democratic)[32]\n",
    "Loretta Sanchez (Democratic)[33]\n",
    "\n",
    "\n",
    "√ Michael Bennet (Democratic)[34]\n",
    "Darryl Glenn (Republican)[35]\n",
    "Lily Tang Williams (Libertarian)[36]\n",
    "Arn Menconi (Green)[37]\n",
    "√ Richard Blumenthal (Democratic)[38]\n",
    "Dan Carter (Republican)[39]\n",
    "Richard Lion (Libertarian)[40]\n",
    "Jeff Russell (Green)[41]\n",
    "√ Marco Rubio (Republican)[42]\n",
    "Patrick Murphy (Democratic)[43]\n",
    "Paul Stanton (Libertarian)[44]\n",
    "√ Johnny Isakson (Republican)[45]\n",
    "Jim Barksdale (Democratic)[46]\n",
    "Allen Buckley (Libertarian)[47]\n",
    "√ Brian Schatz (Democratic)[48]\n",
    "John Carroll (Republican)[48]\n",
    "Michael Kokoski (Libertarian)[49]\n",
    "√ Mike Crapo (Republican)[50]\n",
    "Jerry Sturgill (Democratic)[51]\n",
    "Ray Writz (Constitution)\n",
    "√ Tammy Duckworth (Democratic)[52]\n",
    "Mark Kirk (Republican)[53]\n",
    "Kent McMillen (Libertarian)[54]\n",
    "Scott Summers (Green)[55]\n",
    "√ Todd Young (Republican)[56]\n",
    "Evan Bayh (Democratic)[57]\n",
    "Lucy Brenton (Libertarian)[58]\n",
    "\n",
    "\n",
    "√ Chuck Grassley (Republican)[59]\n",
    "Patty Judge (Democratic)[60]\n",
    "Chuck Aldrich (Libertarian)[61]\n",
    "\n",
    "\n",
    "\n",
    "√ Jerry Moran (Republican)[62]\n",
    "Patrick Wiesner (Democratic)[63]\n",
    "Robert Garrard (Libertarian)[64]\n",
    "√ Rand Paul (Republican)[65]\n",
    "Jim Gray (Democratic)[66]\n",
    "Foster Campbell (Democratic)[67]\n",
    "John Kennedy (Republican)[68]\n",
    "√ Chris Van Hollen (Democratic)[69]\n",
    "Kathy Szeliga (Republican)[70]\n",
    "Margaret Flowers (Green)[71]\n",
    "\n",
    "\n",
    "√ Roy Blunt (Republican)[72]\n",
    "Jason Kander (Democratic)[73]\n",
    "Jonathan Dine (Libertarian)[74]\n",
    "√ Catherine Cortez Masto (Democratic)[75]\n",
    "Joe Heck (Republican)[76]\n",
    "Tom Jones (Independent American)\n",
    "Tony Gumina (unaffiliated)\n",
    "Tom Sawyer (unaffiliated)\n",
    "Jarrod Michael Williams (unaffiliated)\n",
    "(None of these candidates)\n",
    "√ Maggie Hassan (Democratic)[77]\n",
    "Kelly Ayotte (Republican)[78]\n",
    "Brian Chabot (Libertarian)[79]\n",
    "√ Chuck Schumer (Democratic)[38]\n",
    "Wendy Long (Republican)[80]\n",
    "Alex Merced (Libertarian)[81]\n",
    "Robin Wilson (Green)[82]\n",
    "√ Richard Burr (Republican)[83]\n",
    "Deborah Ross (Democratic)[84]\n",
    "Sean Haugh (Libertarian)[85]\n",
    "√ John Hoeven (Republican)[86]\n",
    "Eliot Glassheim (Democratic)[87]\n",
    "Robert Marquette (Libertarian)[88]\n",
    "√ Rob Portman (Republican)[89]\n",
    "Ted Strickland (Democratic)[90]\n",
    "Joseph DeMare (Green)[91]\n",
    "√ James Lankford (Republican)[38]\n",
    "Mike Workman (Democratic)[92]\n",
    "Robert Murphy (Libertarian)[93]\n",
    "√ Ron Wyden (Democratic)[38]\n",
    "Mark Callahan (Republican)[94]\n",
    "Jim Lindsay (Libertarian)[95]\n",
    "Eric Navickas (Green)[95]\n",
    "√ Pat Toomey (Republican)[96]\n",
    "Kathleen McGinty (Democratic)[97]\n",
    "Edward Clifford (Libertarian)[98]\n",
    "√ Tim Scott (Republican)[38]\n",
    "Thomas Dixon (Democratic)[99]\n",
    "Bill Bledsoe (Libertarian)[100]\n",
    "√ John Thune (Republican)[101]\n",
    "Jay Williams (Democratic)[102]\n",
    "√ Mike Lee (Republican)[103]\n",
    "Misty K. Snow (Democratic)[104]\n",
    "Stoney Fonua (Independent American)\n",
    "Bill Barron (unaffiliated)\n",
    "√ Patrick Leahy (Democratic)[105]\n",
    "Scott Milne (Republican)[106]\n",
    "Pete Diamondstone (Liberty Union)\n",
    "Cris Ericson (Marijuana)[verification needed]\n",
    "Jerry Trudell (unaffiliated)\n",
    "\n",
    "\n",
    "√ Patty Murray (Democratic)[107]\n",
    "Chris Vance (Republican)[108]\n",
    "\n",
    "\n",
    "√ Ron Johnson (Republican)[109]\n",
    "Russ Feingold (Democratic)[110]\n",
    "Phil Anderson (Libertarian)[111]\n",
    "'''"
   ]
  },
  {
   "cell_type": "code",
   "execution_count": 273,
   "metadata": {
    "collapsed": false,
    "scrolled": true
   },
   "outputs": [
    {
     "data": {
      "text/html": [
       "<div>\n",
       "<table border=\"1\" class=\"dataframe\">\n",
       "  <thead>\n",
       "    <tr style=\"text-align: right;\">\n",
       "      <th></th>\n",
       "      <th>name</th>\n",
       "      <th>party</th>\n",
       "    </tr>\n",
       "  </thead>\n",
       "  <tbody>\n",
       "    <tr>\n",
       "      <th>0</th>\n",
       "      <td>Richard Shelby</td>\n",
       "      <td>Republican</td>\n",
       "    </tr>\n",
       "    <tr>\n",
       "      <th>1</th>\n",
       "      <td>Ron Crumpton</td>\n",
       "      <td>Democratic</td>\n",
       "    </tr>\n",
       "    <tr>\n",
       "      <th>2</th>\n",
       "      <td>Lisa Murkowski</td>\n",
       "      <td>Republican</td>\n",
       "    </tr>\n",
       "    <tr>\n",
       "      <th>3</th>\n",
       "      <td>Ray Metcalfe</td>\n",
       "      <td>Democratic</td>\n",
       "    </tr>\n",
       "    <tr>\n",
       "      <th>4</th>\n",
       "      <td>Joe Miller</td>\n",
       "      <td>Libertarian</td>\n",
       "    </tr>\n",
       "  </tbody>\n",
       "</table>\n",
       "</div>"
      ],
      "text/plain": [
       "             name        party\n",
       "0  Richard Shelby   Republican\n",
       "1    Ron Crumpton   Democratic\n",
       "2  Lisa Murkowski   Republican\n",
       "3    Ray Metcalfe   Democratic\n",
       "4      Joe Miller  Libertarian"
      ]
     },
     "execution_count": 273,
     "metadata": {},
     "output_type": "execute_result"
    }
   ],
   "source": [
    "candidates_df = pd.read_table(StringIO.StringIO(s), header = None, names = ['candidate'])\n",
    "candidates_df['candidate'] = candidates_df['candidate'].apply(lambda x: unidecode.unidecode(x.decode('utf-8')))\n",
    "\n",
    "candidates_df = candidates_df['candidate'].str.split('\\(', expand=True)\n",
    "candidates_df.columns = ['name', 'party']\n",
    "\n",
    "candidates_df = candidates_df.applymap(lambda x: re.sub('[^a-zA-Z\\s\\.]', '', x).strip())\n",
    "\n",
    "\n",
    "candidates_df_clean = candidates_df[(candidates_df['party'].str.contains('Republican') | \n",
    "                       candidates_df['party'].str.contains('Democratic') |\n",
    "                                    candidates_df['party'].str.contains('Libertarian'))]\n",
    "\n",
    "\n",
    "candidates_df_clean.head()"
   ]
  },
  {
   "cell_type": "code",
   "execution_count": 474,
   "metadata": {
    "collapsed": false
   },
   "outputs": [],
   "source": [
    "candidates_list = candidates_df_clean['name'].tolist()\n",
    "candidates_list += ['Donald Trump', 'Hillary Clinton', 'Gary Johnson']"
   ]
  },
  {
   "cell_type": "code",
   "execution_count": 475,
   "metadata": {
    "collapsed": false
   },
   "outputs": [],
   "source": [
    "candidates_json = p.article_views('en.wikipedia',\n",
    "                candidates_list,\n",
    "                start='20161101', end='20161115')"
   ]
  },
  {
   "cell_type": "code",
   "execution_count": 476,
   "metadata": {
    "collapsed": false,
    "scrolled": true
   },
   "outputs": [],
   "source": [
    "combined = pd.DataFrame()\n",
    "\n",
    "for k, val in candidates_json.viewitems():\n",
    "    q = pd.Series(val)\n",
    "    \n",
    "    if len(q) != 0:\n",
    "        q.name = str(k.date())\n",
    "        combined = pd.concat([combined, q], axis = 1)\n",
    "\n",
    "combined = combined.reset_index()\n",
    "combined.rename(columns = {'index':'candidate_name'}, inplace = True)\n",
    "combined = combined.dropna(axis = 0)"
   ]
  },
  {
   "cell_type": "code",
   "execution_count": 480,
   "metadata": {
    "collapsed": false
   },
   "outputs": [
    {
     "data": {
      "text/html": [
       "<div>\n",
       "<table border=\"1\" class=\"dataframe\">\n",
       "  <thead>\n",
       "    <tr style=\"text-align: right;\">\n",
       "      <th></th>\n",
       "      <th>candidate_name</th>\n",
       "      <th>2016-11-06</th>\n",
       "      <th>2016-11-13</th>\n",
       "      <th>2016-11-02</th>\n",
       "      <th>2016-11-09</th>\n",
       "      <th>2016-11-14</th>\n",
       "      <th>2016-11-07</th>\n",
       "      <th>2016-11-10</th>\n",
       "      <th>2016-11-03</th>\n",
       "      <th>2016-11-15</th>\n",
       "      <th>2016-11-04</th>\n",
       "      <th>2016-11-11</th>\n",
       "      <th>2016-11-12</th>\n",
       "      <th>2016-11-05</th>\n",
       "      <th>2016-11-08</th>\n",
       "      <th>2016-11-01</th>\n",
       "    </tr>\n",
       "  </thead>\n",
       "  <tbody>\n",
       "    <tr>\n",
       "      <th>0</th>\n",
       "      <td>Alex_Merced</td>\n",
       "      <td>78.0</td>\n",
       "      <td>9.0</td>\n",
       "      <td>239.0</td>\n",
       "      <td>96.0</td>\n",
       "      <td>15.0</td>\n",
       "      <td>207.0</td>\n",
       "      <td>28.0</td>\n",
       "      <td>91.0</td>\n",
       "      <td>18.0</td>\n",
       "      <td>85.0</td>\n",
       "      <td>60.0</td>\n",
       "      <td>12.0</td>\n",
       "      <td>57.0</td>\n",
       "      <td>516.0</td>\n",
       "      <td>35.0</td>\n",
       "    </tr>\n",
       "    <tr>\n",
       "      <th>1</th>\n",
       "      <td>Allen_Buckley</td>\n",
       "      <td>170.0</td>\n",
       "      <td>19.0</td>\n",
       "      <td>501.0</td>\n",
       "      <td>139.0</td>\n",
       "      <td>22.0</td>\n",
       "      <td>532.0</td>\n",
       "      <td>51.0</td>\n",
       "      <td>457.0</td>\n",
       "      <td>26.0</td>\n",
       "      <td>444.0</td>\n",
       "      <td>21.0</td>\n",
       "      <td>23.0</td>\n",
       "      <td>172.0</td>\n",
       "      <td>1502.0</td>\n",
       "      <td>370.0</td>\n",
       "    </tr>\n",
       "    <tr>\n",
       "      <th>2</th>\n",
       "      <td>Ann_Kirkpatrick</td>\n",
       "      <td>543.0</td>\n",
       "      <td>432.0</td>\n",
       "      <td>802.0</td>\n",
       "      <td>1377.0</td>\n",
       "      <td>848.0</td>\n",
       "      <td>879.0</td>\n",
       "      <td>644.0</td>\n",
       "      <td>728.0</td>\n",
       "      <td>375.0</td>\n",
       "      <td>620.0</td>\n",
       "      <td>480.0</td>\n",
       "      <td>423.0</td>\n",
       "      <td>524.0</td>\n",
       "      <td>1887.0</td>\n",
       "      <td>826.0</td>\n",
       "    </tr>\n",
       "    <tr>\n",
       "      <th>5</th>\n",
       "      <td>Brian_Schatz</td>\n",
       "      <td>345.0</td>\n",
       "      <td>569.0</td>\n",
       "      <td>405.0</td>\n",
       "      <td>1566.0</td>\n",
       "      <td>623.0</td>\n",
       "      <td>470.0</td>\n",
       "      <td>1259.0</td>\n",
       "      <td>357.0</td>\n",
       "      <td>626.0</td>\n",
       "      <td>354.0</td>\n",
       "      <td>872.0</td>\n",
       "      <td>646.0</td>\n",
       "      <td>374.0</td>\n",
       "      <td>833.0</td>\n",
       "      <td>319.0</td>\n",
       "    </tr>\n",
       "    <tr>\n",
       "      <th>6</th>\n",
       "      <td>Catherine_Cortez_Masto</td>\n",
       "      <td>1034.0</td>\n",
       "      <td>3028.0</td>\n",
       "      <td>883.0</td>\n",
       "      <td>16565.0</td>\n",
       "      <td>3006.0</td>\n",
       "      <td>1595.0</td>\n",
       "      <td>9692.0</td>\n",
       "      <td>998.0</td>\n",
       "      <td>2585.0</td>\n",
       "      <td>869.0</td>\n",
       "      <td>6095.0</td>\n",
       "      <td>3680.0</td>\n",
       "      <td>1004.0</td>\n",
       "      <td>2012.0</td>\n",
       "      <td>739.0</td>\n",
       "    </tr>\n",
       "  </tbody>\n",
       "</table>\n",
       "</div>"
      ],
      "text/plain": [
       "           candidate_name  2016-11-06  2016-11-13  2016-11-02  2016-11-09  \\\n",
       "0             Alex_Merced        78.0         9.0       239.0        96.0   \n",
       "1           Allen_Buckley       170.0        19.0       501.0       139.0   \n",
       "2         Ann_Kirkpatrick       543.0       432.0       802.0      1377.0   \n",
       "5            Brian_Schatz       345.0       569.0       405.0      1566.0   \n",
       "6  Catherine_Cortez_Masto      1034.0      3028.0       883.0     16565.0   \n",
       "\n",
       "   2016-11-14  2016-11-07  2016-11-10  2016-11-03  2016-11-15  2016-11-04  \\\n",
       "0        15.0       207.0        28.0        91.0        18.0        85.0   \n",
       "1        22.0       532.0        51.0       457.0        26.0       444.0   \n",
       "2       848.0       879.0       644.0       728.0       375.0       620.0   \n",
       "5       623.0       470.0      1259.0       357.0       626.0       354.0   \n",
       "6      3006.0      1595.0      9692.0       998.0      2585.0       869.0   \n",
       "\n",
       "   2016-11-11  2016-11-12  2016-11-05  2016-11-08  2016-11-01  \n",
       "0        60.0        12.0        57.0       516.0        35.0  \n",
       "1        21.0        23.0       172.0      1502.0       370.0  \n",
       "2       480.0       423.0       524.0      1887.0       826.0  \n",
       "5       872.0       646.0       374.0       833.0       319.0  \n",
       "6      6095.0      3680.0      1004.0      2012.0       739.0  "
      ]
     },
     "execution_count": 480,
     "metadata": {},
     "output_type": "execute_result"
    }
   ],
   "source": [
    "combined.head()"
   ]
  },
  {
   "cell_type": "code",
   "execution_count": 552,
   "metadata": {
    "collapsed": false
   },
   "outputs": [
    {
     "data": {
      "text/html": [
       "<div>\n",
       "<table border=\"1\" class=\"dataframe\">\n",
       "  <thead>\n",
       "    <tr style=\"text-align: right;\">\n",
       "      <th></th>\n",
       "      <th>candidate_name</th>\n",
       "      <th>date</th>\n",
       "      <th>view_count</th>\n",
       "    </tr>\n",
       "  </thead>\n",
       "  <tbody>\n",
       "    <tr>\n",
       "      <th>0</th>\n",
       "      <td>Alex_Merced</td>\n",
       "      <td>2016-11-06</td>\n",
       "      <td>78.0</td>\n",
       "    </tr>\n",
       "    <tr>\n",
       "      <th>1</th>\n",
       "      <td>Allen_Buckley</td>\n",
       "      <td>2016-11-06</td>\n",
       "      <td>170.0</td>\n",
       "    </tr>\n",
       "    <tr>\n",
       "      <th>2</th>\n",
       "      <td>Ann_Kirkpatrick</td>\n",
       "      <td>2016-11-06</td>\n",
       "      <td>543.0</td>\n",
       "    </tr>\n",
       "    <tr>\n",
       "      <th>3</th>\n",
       "      <td>Brian_Schatz</td>\n",
       "      <td>2016-11-06</td>\n",
       "      <td>345.0</td>\n",
       "    </tr>\n",
       "    <tr>\n",
       "      <th>4</th>\n",
       "      <td>Catherine_Cortez_Masto</td>\n",
       "      <td>2016-11-06</td>\n",
       "      <td>1034.0</td>\n",
       "    </tr>\n",
       "  </tbody>\n",
       "</table>\n",
       "</div>"
      ],
      "text/plain": [
       "           candidate_name        date  view_count\n",
       "0             Alex_Merced  2016-11-06        78.0\n",
       "1           Allen_Buckley  2016-11-06       170.0\n",
       "2         Ann_Kirkpatrick  2016-11-06       543.0\n",
       "3            Brian_Schatz  2016-11-06       345.0\n",
       "4  Catherine_Cortez_Masto  2016-11-06      1034.0"
      ]
     },
     "execution_count": 552,
     "metadata": {},
     "output_type": "execute_result"
    }
   ],
   "source": [
    "candidate_data_long = pd.melt(combined, id_vars=['candidate_name'], var_name='date', value_name='view_count')\n",
    "candidate_data_long.head()"
   ]
  },
  {
   "cell_type": "code",
   "execution_count": 553,
   "metadata": {
    "collapsed": true
   },
   "outputs": [],
   "source": [
    "# set up as a time series panel\n",
    "candidate_data_long = candidate_data_long.set_index(pd.DatetimeIndex(candidate_data_long['date']))\n",
    "candidate_data_long.sort_index(inplace = True)"
   ]
  },
  {
   "cell_type": "code",
   "execution_count": 555,
   "metadata": {
    "collapsed": false
   },
   "outputs": [
    {
     "data": {
      "text/html": [
       "<div>\n",
       "<table border=\"1\" class=\"dataframe\">\n",
       "  <thead>\n",
       "    <tr style=\"text-align: right;\">\n",
       "      <th></th>\n",
       "      <th>candidate_name</th>\n",
       "      <th>date</th>\n",
       "      <th>view_count</th>\n",
       "      <th>normalized_view_count</th>\n",
       "    </tr>\n",
       "  </thead>\n",
       "  <tbody>\n",
       "    <tr>\n",
       "      <th>2016-11-01</th>\n",
       "      <td>Wendy_Long</td>\n",
       "      <td>2016-11-01</td>\n",
       "      <td>770.0</td>\n",
       "      <td>1.0</td>\n",
       "    </tr>\n",
       "    <tr>\n",
       "      <th>2016-11-01</th>\n",
       "      <td>Hillary_Clinton</td>\n",
       "      <td>2016-11-01</td>\n",
       "      <td>76871.0</td>\n",
       "      <td>1.0</td>\n",
       "    </tr>\n",
       "    <tr>\n",
       "      <th>2016-11-01</th>\n",
       "      <td>James_Lankford</td>\n",
       "      <td>2016-11-01</td>\n",
       "      <td>617.0</td>\n",
       "      <td>1.0</td>\n",
       "    </tr>\n",
       "    <tr>\n",
       "      <th>2016-11-01</th>\n",
       "      <td>Jason_Kander</td>\n",
       "      <td>2016-11-01</td>\n",
       "      <td>2186.0</td>\n",
       "      <td>1.0</td>\n",
       "    </tr>\n",
       "    <tr>\n",
       "      <th>2016-11-01</th>\n",
       "      <td>Jay_Williams</td>\n",
       "      <td>2016-11-01</td>\n",
       "      <td>16.0</td>\n",
       "      <td>1.0</td>\n",
       "    </tr>\n",
       "  </tbody>\n",
       "</table>\n",
       "</div>"
      ],
      "text/plain": [
       "             candidate_name        date  view_count  normalized_view_count\n",
       "2016-11-01       Wendy_Long  2016-11-01       770.0                    1.0\n",
       "2016-11-01  Hillary_Clinton  2016-11-01     76871.0                    1.0\n",
       "2016-11-01   James_Lankford  2016-11-01       617.0                    1.0\n",
       "2016-11-01     Jason_Kander  2016-11-01      2186.0                    1.0\n",
       "2016-11-01     Jay_Williams  2016-11-01        16.0                    1.0"
      ]
     },
     "execution_count": 555,
     "metadata": {},
     "output_type": "execute_result"
    }
   ],
   "source": [
    "# normalized view count\n",
    "first_values = (candidate_data_long.groupby(['candidate_name']).transform('first'))\n",
    "candidate_data_long['normalized_view_count'] = candidate_data_long['view_count'] / first_values['view_count']\n",
    "candidate_data_long.head()"
   ]
  },
  {
   "cell_type": "code",
   "execution_count": 557,
   "metadata": {
    "collapsed": true
   },
   "outputs": [],
   "source": [
    "candidate_data_long.to_csv('/users/nickbecker/Downloads/candidate_data_long_normalized.csv', index = False)"
   ]
  },
  {
   "cell_type": "code",
   "execution_count": null,
   "metadata": {
    "collapsed": true
   },
   "outputs": [],
   "source": []
  },
  {
   "cell_type": "code",
   "execution_count": null,
   "metadata": {
    "collapsed": true
   },
   "outputs": [],
   "source": []
  },
  {
   "cell_type": "code",
   "execution_count": null,
   "metadata": {
    "collapsed": true
   },
   "outputs": [],
   "source": []
  },
  {
   "cell_type": "code",
   "execution_count": null,
   "metadata": {
    "collapsed": true
   },
   "outputs": [],
   "source": [
    "import matplotlib.pyplot as plt\n",
    "import seaborn as sns\n",
    "%matplotlib inline"
   ]
  },
  {
   "cell_type": "code",
   "execution_count": 558,
   "metadata": {
    "collapsed": true
   },
   "outputs": [],
   "source": [
    "politicians_list = ['Donald_Trump', 'Hillary_Clinton', 'Tammy_Duckworth', 'Mark_Kirk']\n",
    "presidential_data = candidate_data_long[candidate_data_long['candidate_name'].isin(politicians_list)]"
   ]
  },
  {
   "cell_type": "code",
   "execution_count": 559,
   "metadata": {
    "collapsed": false,
    "scrolled": true
   },
   "outputs": [
    {
     "data": {
      "text/html": [
       "<div>\n",
       "<table border=\"1\" class=\"dataframe\">\n",
       "  <thead>\n",
       "    <tr style=\"text-align: right;\">\n",
       "      <th></th>\n",
       "      <th>candidate_name</th>\n",
       "      <th>date</th>\n",
       "      <th>view_count</th>\n",
       "      <th>normalized_view_count</th>\n",
       "    </tr>\n",
       "  </thead>\n",
       "  <tbody>\n",
       "    <tr>\n",
       "      <th>2016-11-01</th>\n",
       "      <td>Hillary_Clinton</td>\n",
       "      <td>2016-11-01</td>\n",
       "      <td>76871.0</td>\n",
       "      <td>1.000000</td>\n",
       "    </tr>\n",
       "    <tr>\n",
       "      <th>2016-11-01</th>\n",
       "      <td>Donald_Trump</td>\n",
       "      <td>2016-11-01</td>\n",
       "      <td>128660.0</td>\n",
       "      <td>1.000000</td>\n",
       "    </tr>\n",
       "    <tr>\n",
       "      <th>2016-11-01</th>\n",
       "      <td>Tammy_Duckworth</td>\n",
       "      <td>2016-11-01</td>\n",
       "      <td>3410.0</td>\n",
       "      <td>1.000000</td>\n",
       "    </tr>\n",
       "    <tr>\n",
       "      <th>2016-11-01</th>\n",
       "      <td>Mark_Kirk</td>\n",
       "      <td>2016-11-01</td>\n",
       "      <td>1654.0</td>\n",
       "      <td>1.000000</td>\n",
       "    </tr>\n",
       "    <tr>\n",
       "      <th>2016-11-02</th>\n",
       "      <td>Hillary_Clinton</td>\n",
       "      <td>2016-11-02</td>\n",
       "      <td>84640.0</td>\n",
       "      <td>1.101065</td>\n",
       "    </tr>\n",
       "  </tbody>\n",
       "</table>\n",
       "</div>"
      ],
      "text/plain": [
       "             candidate_name        date  view_count  normalized_view_count\n",
       "2016-11-01  Hillary_Clinton  2016-11-01     76871.0               1.000000\n",
       "2016-11-01     Donald_Trump  2016-11-01    128660.0               1.000000\n",
       "2016-11-01  Tammy_Duckworth  2016-11-01      3410.0               1.000000\n",
       "2016-11-01        Mark_Kirk  2016-11-01      1654.0               1.000000\n",
       "2016-11-02  Hillary_Clinton  2016-11-02     84640.0               1.101065"
      ]
     },
     "execution_count": 559,
     "metadata": {},
     "output_type": "execute_result"
    }
   ],
   "source": [
    "presidential_data.head()"
   ]
  },
  {
   "cell_type": "code",
   "execution_count": 574,
   "metadata": {
    "collapsed": false
   },
   "outputs": [
    {
     "data": {
      "text/plain": [
       "candidate_name\n",
       "Donald_Trump       Axes(0.125,0.125;0.775x0.775)\n",
       "Hillary_Clinton    Axes(0.125,0.125;0.775x0.775)\n",
       "Mark_Kirk          Axes(0.125,0.125;0.775x0.775)\n",
       "Tammy_Duckworth    Axes(0.125,0.125;0.775x0.775)\n",
       "dtype: object"
      ]
     },
     "execution_count": 574,
     "metadata": {},
     "output_type": "execute_result"
    },
    {
     "data": {
      "image/png": "[encoded data removed]",
      "text/plain": [
       "<matplotlib.figure.Figure at 0x1e56d1c10>"
      ]
     },
     "metadata": {},
     "output_type": "display_data"
    }
   ],
   "source": [
    "fig, ax = plt.subplots(figsize=(8,6))\n",
    "\n",
    "presidential_data.groupby('candidate_name').plot('date', 'normalized_view_count', ax = ax)"
   ]
  },
  {
   "cell_type": "code",
   "execution_count": 565,
   "metadata": {
    "collapsed": false
   },
   "outputs": [
    {
     "data": {
      "text/html": [
       "<div>\n",
       "<table border=\"1\" class=\"dataframe\">\n",
       "  <thead>\n",
       "    <tr style=\"text-align: right;\">\n",
       "      <th></th>\n",
       "      <th>candidate_name</th>\n",
       "      <th>date</th>\n",
       "      <th>view_count</th>\n",
       "      <th>normalized_view_count</th>\n",
       "    </tr>\n",
       "  </thead>\n",
       "  <tbody>\n",
       "    <tr>\n",
       "      <th>2016-11-01</th>\n",
       "      <td>Tammy_Duckworth</td>\n",
       "      <td>2016-11-01</td>\n",
       "      <td>3410.0</td>\n",
       "      <td>1.000000</td>\n",
       "    </tr>\n",
       "    <tr>\n",
       "      <th>2016-11-02</th>\n",
       "      <td>Tammy_Duckworth</td>\n",
       "      <td>2016-11-02</td>\n",
       "      <td>3774.0</td>\n",
       "      <td>1.106745</td>\n",
       "    </tr>\n",
       "    <tr>\n",
       "      <th>2016-11-03</th>\n",
       "      <td>Tammy_Duckworth</td>\n",
       "      <td>2016-11-03</td>\n",
       "      <td>3447.0</td>\n",
       "      <td>1.010850</td>\n",
       "    </tr>\n",
       "    <tr>\n",
       "      <th>2016-11-04</th>\n",
       "      <td>Tammy_Duckworth</td>\n",
       "      <td>2016-11-04</td>\n",
       "      <td>4765.0</td>\n",
       "      <td>1.397361</td>\n",
       "    </tr>\n",
       "    <tr>\n",
       "      <th>2016-11-05</th>\n",
       "      <td>Tammy_Duckworth</td>\n",
       "      <td>2016-11-05</td>\n",
       "      <td>3619.0</td>\n",
       "      <td>1.061290</td>\n",
       "    </tr>\n",
       "    <tr>\n",
       "      <th>2016-11-06</th>\n",
       "      <td>Tammy_Duckworth</td>\n",
       "      <td>2016-11-06</td>\n",
       "      <td>3216.0</td>\n",
       "      <td>0.943109</td>\n",
       "    </tr>\n",
       "    <tr>\n",
       "      <th>2016-11-07</th>\n",
       "      <td>Tammy_Duckworth</td>\n",
       "      <td>2016-11-07</td>\n",
       "      <td>5450.0</td>\n",
       "      <td>1.598240</td>\n",
       "    </tr>\n",
       "    <tr>\n",
       "      <th>2016-11-08</th>\n",
       "      <td>Tammy_Duckworth</td>\n",
       "      <td>2016-11-08</td>\n",
       "      <td>11015.0</td>\n",
       "      <td>3.230205</td>\n",
       "    </tr>\n",
       "    <tr>\n",
       "      <th>2016-11-09</th>\n",
       "      <td>Tammy_Duckworth</td>\n",
       "      <td>2016-11-09</td>\n",
       "      <td>86615.0</td>\n",
       "      <td>25.400293</td>\n",
       "    </tr>\n",
       "    <tr>\n",
       "      <th>2016-11-10</th>\n",
       "      <td>Tammy_Duckworth</td>\n",
       "      <td>2016-11-10</td>\n",
       "      <td>39032.0</td>\n",
       "      <td>11.446334</td>\n",
       "    </tr>\n",
       "    <tr>\n",
       "      <th>2016-11-11</th>\n",
       "      <td>Tammy_Duckworth</td>\n",
       "      <td>2016-11-11</td>\n",
       "      <td>26025.0</td>\n",
       "      <td>7.631965</td>\n",
       "    </tr>\n",
       "    <tr>\n",
       "      <th>2016-11-12</th>\n",
       "      <td>Tammy_Duckworth</td>\n",
       "      <td>2016-11-12</td>\n",
       "      <td>15007.0</td>\n",
       "      <td>4.400880</td>\n",
       "    </tr>\n",
       "    <tr>\n",
       "      <th>2016-11-13</th>\n",
       "      <td>Tammy_Duckworth</td>\n",
       "      <td>2016-11-13</td>\n",
       "      <td>9459.0</td>\n",
       "      <td>2.773900</td>\n",
       "    </tr>\n",
       "    <tr>\n",
       "      <th>2016-11-14</th>\n",
       "      <td>Tammy_Duckworth</td>\n",
       "      <td>2016-11-14</td>\n",
       "      <td>7225.0</td>\n",
       "      <td>2.118768</td>\n",
       "    </tr>\n",
       "    <tr>\n",
       "      <th>2016-11-15</th>\n",
       "      <td>Tammy_Duckworth</td>\n",
       "      <td>2016-11-15</td>\n",
       "      <td>5355.0</td>\n",
       "      <td>1.570381</td>\n",
       "    </tr>\n",
       "  </tbody>\n",
       "</table>\n",
       "</div>"
      ],
      "text/plain": [
       "             candidate_name        date  view_count  normalized_view_count\n",
       "2016-11-01  Tammy_Duckworth  2016-11-01      3410.0               1.000000\n",
       "2016-11-02  Tammy_Duckworth  2016-11-02      3774.0               1.106745\n",
       "2016-11-03  Tammy_Duckworth  2016-11-03      3447.0               1.010850\n",
       "2016-11-04  Tammy_Duckworth  2016-11-04      4765.0               1.397361\n",
       "2016-11-05  Tammy_Duckworth  2016-11-05      3619.0               1.061290\n",
       "2016-11-06  Tammy_Duckworth  2016-11-06      3216.0               0.943109\n",
       "2016-11-07  Tammy_Duckworth  2016-11-07      5450.0               1.598240\n",
       "2016-11-08  Tammy_Duckworth  2016-11-08     11015.0               3.230205\n",
       "2016-11-09  Tammy_Duckworth  2016-11-09     86615.0              25.400293\n",
       "2016-11-10  Tammy_Duckworth  2016-11-10     39032.0              11.446334\n",
       "2016-11-11  Tammy_Duckworth  2016-11-11     26025.0               7.631965\n",
       "2016-11-12  Tammy_Duckworth  2016-11-12     15007.0               4.400880\n",
       "2016-11-13  Tammy_Duckworth  2016-11-13      9459.0               2.773900\n",
       "2016-11-14  Tammy_Duckworth  2016-11-14      7225.0               2.118768\n",
       "2016-11-15  Tammy_Duckworth  2016-11-15      5355.0               1.570381"
      ]
     },
     "execution_count": 565,
     "metadata": {},
     "output_type": "execute_result"
    }
   ],
   "source": [
    "presidential_data.query(\"candidate_name == 'Tammy_Duckworth'\")"
   ]
  },
  {
   "cell_type": "code",
   "execution_count": null,
   "metadata": {
    "collapsed": true
   },
   "outputs": [],
   "source": []
  }
 ],
 "metadata": {
  "anaconda-cloud": {},
  "kernelspec": {
   "display_name": "Python [Root]",
   "language": "python",
   "name": "Python [Root]"
  },
  "language_info": {
   "codemirror_mode": {
    "name": "ipython",
    "version": 2
   },
   "file_extension": ".py",
   "mimetype": "text/x-python",
   "name": "python",
   "nbconvert_exporter": "python",
   "pygments_lexer": "ipython2",
   "version": "2.7.12"
  }
 },
 "nbformat": 4,
 "nbformat_minor": 0
}
